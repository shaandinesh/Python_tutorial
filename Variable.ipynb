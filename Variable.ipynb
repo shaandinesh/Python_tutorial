{
 "cells": [
  {
   "cell_type": "markdown",
   "metadata": {},
   "source": [
    "# Variables\n",
    "\n",
    "Variables are used to store information to be referenced and manipulated in a computer program.\n",
    "They also provide a way of labeling data with a descriptive name, It is helpful to think of variables as containers that hold information. \n",
    "\n",
    "Variables are nothing but reserved memory locations to store values. This means that when you create a variable you reserve some space in memory and it can be use in computer program.\n",
    "\n",
    "<table class=\"w3-table\" style=\"box-sizing: inherit; border-collapse: collapse; border-spacing: 0px; width: 875px; display: table; color: rgb(0, 0, 0); font-family: Verdana, sans-serif; font-size: 15px; font-style: normal; font-variant-ligatures: normal; font-variant-caps: normal; font-weight: 400; letter-spacing: normal; orphans: 2; text-align: start; text-indent: 0px; text-transform: none; white-space: normal; widows: 2; word-spacing: 0px; -webkit-text-stroke-width: 0px; background-color: rgb(255, 255, 255); text-decoration-style: initial; text-decoration-color: initial;\">\n",
    "    <tbody style=\"box-sizing: inherit;\">\n",
    "        <tr style=\"box-sizing: inherit;\">\n",
    "            <td style=\"box-sizing: inherit; padding: 8px 8px 8px 16px; display: table-cell; text-align: left; vertical-align: top; width: 160px;\">Text Type:</td>\n",
    "            <td style=\"box-sizing: inherit; padding: 8px; display: table-cell; text-align: left; vertical-align: top;\"><code class=\"w3-codespan\" style='box-sizing: inherit; font-family: Consolas, \"courier new\"; font-size: 15.75px; color: crimson; background-color: rgb(241, 241, 241); padding-left: 4px; padding-right: 4px;'>str</code></td>\n",
    "        </tr>\n",
    "        <tr style=\"box-sizing: inherit;\">\n",
    "            <td style=\"box-sizing: inherit; padding: 8px 8px 8px 16px; display: table-cell; text-align: left; vertical-align: top;\">Numeric Types:</td>\n",
    "            <td style=\"box-sizing: inherit; padding: 8px; display: table-cell; text-align: left; vertical-align: top;\"><code class=\"w3-codespan\" style='box-sizing: inherit; font-family: Consolas, \"courier new\"; font-size: 15.75px; color: crimson; background-color: rgb(241, 241, 241); padding-left: 4px; padding-right: 4px;'>int</code>,&nbsp;<code class=\"w3-codespan\" style='box-sizing: inherit; font-family: Consolas, \"courier new\"; font-size: 15.75px; color: crimson; background-color: rgb(241, 241, 241); padding-left: 4px; padding-right: 4px;'>float</code>,&nbsp;<code class=\"w3-codespan\" style='box-sizing: inherit; font-family: Consolas, \"courier new\"; font-size: 15.75px; color: crimson; background-color: rgb(241, 241, 241); padding-left: 4px; padding-right: 4px;'>complex</code></td>\n",
    "        </tr>\n",
    "        <tr style=\"box-sizing: inherit;\">\n",
    "            <td style=\"box-sizing: inherit; padding: 8px 8px 8px 16px; display: table-cell; text-align: left; vertical-align: top;\">Sequence Types:</td>\n",
    "            <td style=\"box-sizing: inherit; padding: 8px; display: table-cell; text-align: left; vertical-align: top;\"><code class=\"w3-codespan\" style='box-sizing: inherit; font-family: Consolas, \"courier new\"; font-size: 15.75px; color: crimson; background-color: rgb(241, 241, 241); padding-left: 4px; padding-right: 4px;'>list</code>,&nbsp;<code class=\"w3-codespan\" style='box-sizing: inherit; font-family: Consolas, \"courier new\"; font-size: 15.75px; color: crimson; background-color: rgb(241, 241, 241); padding-left: 4px; padding-right: 4px;'>tuple</code>,&nbsp;<code class=\"w3-codespan\" style='box-sizing: inherit; font-family: Consolas, \"courier new\"; font-size: 15.75px; color: crimson; background-color: rgb(241, 241, 241); padding-left: 4px; padding-right: 4px;'>range</code></td>\n",
    "        </tr>\n",
    "        <tr style=\"box-sizing: inherit;\">\n",
    "            <td style=\"box-sizing: inherit; padding: 8px 8px 8px 16px; display: table-cell; text-align: left; vertical-align: top;\">Mapping Type:</td>\n",
    "            <td style=\"box-sizing: inherit; padding: 8px; display: table-cell; text-align: left; vertical-align: top;\"><code class=\"w3-codespan\" style='box-sizing: inherit; font-family: Consolas, \"courier new\"; font-size: 15.75px; color: crimson; background-color: rgb(241, 241, 241); padding-left: 4px; padding-right: 4px;'>dict</code></td>\n",
    "        </tr>\n",
    "        <tr style=\"box-sizing: inherit;\">\n",
    "            <td style=\"box-sizing: inherit; padding: 8px 8px 8px 16px; display: table-cell; text-align: left; vertical-align: top;\">Set Types:</td>\n",
    "            <td style=\"box-sizing: inherit; padding: 8px; display: table-cell; text-align: left; vertical-align: top;\"><code class=\"w3-codespan\" style='box-sizing: inherit; font-family: Consolas, \"courier new\"; font-size: 15.75px; color: crimson; background-color: rgb(241, 241, 241); padding-left: 4px; padding-right: 4px;'>set</code>,&nbsp;<code class=\"w3-codespan\" style='box-sizing: inherit; font-family: Consolas, \"courier new\"; font-size: 15.75px; color: crimson; background-color: rgb(241, 241, 241); padding-left: 4px; padding-right: 4px;'>frozenset</code></td>\n",
    "        </tr>\n",
    "        <tr style=\"box-sizing: inherit;\">\n",
    "            <td style=\"box-sizing: inherit; padding: 8px 8px 8px 16px; display: table-cell; text-align: left; vertical-align: top;\">Boolean Type:</td>\n",
    "            <td style=\"box-sizing: inherit; padding: 8px; display: table-cell; text-align: left; vertical-align: top;\"><code class=\"w3-codespan\" style='box-sizing: inherit; font-family: Consolas, \"courier new\"; font-size: 15.75px; color: crimson; background-color: rgb(241, 241, 241); padding-left: 4px; padding-right: 4px;'>bool</code></td>\n",
    "        </tr>\n",
    "        <tr style=\"box-sizing: inherit;\">\n",
    "            <td style=\"box-sizing: inherit; padding: 8px 8px 8px 16px; display: table-cell; text-align: left; vertical-align: top;\">Binary Types:</td>\n",
    "            <td style=\"box-sizing: inherit; padding: 8px; display: table-cell; text-align: left; vertical-align: top;\"><code class=\"w3-codespan\" style='box-sizing: inherit; font-family: Consolas, \"courier new\"; font-size: 15.75px; color: crimson; background-color: rgb(241, 241, 241); padding-left: 4px; padding-right: 4px;'>bytes</code>,&nbsp;<code class=\"w3-codespan\" style='box-sizing: inherit; font-family: Consolas, \"courier new\"; font-size: 15.75px; color: crimson; background-color: rgb(241, 241, 241); padding-left: 4px; padding-right: 4px;'>bytearray</code>,&nbsp;<code class=\"w3-codespan\" style='box-sizing: inherit; font-family: Consolas, \"courier new\"; font-size: 15.75px; color: crimson; background-color: rgb(241, 241, 241); padding-left: 4px; padding-right: 4px;'>memoryview</code></td>\n",
    "        </tr>\n",
    "    </tbody>\n",
    "</table>\n",
    "\n",
    "# Assigning Values to Variables\n",
    "\n",
    "in python we dont need to explicit declare the variable. The declaration happens automatically when you assign a value to a variable.\n",
    "\n",
    "syntax\n",
    "variable_name = values\n",
    "\n",
    "example\n",
    "a= 5"
   ]
  },
  {
   "cell_type": "code",
   "execution_count": 6,
   "metadata": {},
   "outputs": [],
   "source": [
    "a=5\n",
    "b= 15\n",
    "c= 'Dinesh'"
   ]
  },
  {
   "cell_type": "code",
   "execution_count": 8,
   "metadata": {},
   "outputs": [
    {
     "name": "stdout",
     "output_type": "stream",
     "text": [
      "5\n",
      "15\n",
      "Dinesh\n"
     ]
    }
   ],
   "source": [
    "print (a)\n",
    "print (b)\n",
    "print (c)"
   ]
  },
  {
   "cell_type": "markdown",
   "metadata": {},
   "source": [
    "# Multiple Assignment\n"
   ]
  },
  {
   "cell_type": "code",
   "execution_count": 12,
   "metadata": {},
   "outputs": [],
   "source": [
    "a = b = c = 1"
   ]
  },
  {
   "cell_type": "code",
   "execution_count": 13,
   "metadata": {},
   "outputs": [
    {
     "name": "stdout",
     "output_type": "stream",
     "text": [
      "1\n",
      "1\n",
      "1\n"
     ]
    }
   ],
   "source": [
    "print (a)\n",
    "print (b)\n",
    "print (c)"
   ]
  },
  {
   "cell_type": "code",
   "execution_count": 14,
   "metadata": {},
   "outputs": [],
   "source": [
    "a,b,c = 1,2,\"john\""
   ]
  },
  {
   "cell_type": "code",
   "execution_count": 15,
   "metadata": {},
   "outputs": [
    {
     "name": "stdout",
     "output_type": "stream",
     "text": [
      "1\n",
      "2\n",
      "john\n"
     ]
    }
   ],
   "source": [
    "print (a)\n",
    "print (b)\n",
    "print (c)"
   ]
  },
  {
   "cell_type": "raw",
   "metadata": {},
   "source": [
    "importance  --- once the datatype has assign to the variable , you have to perform with the same datatype with that variable\n",
    "\n",
    "example"
   ]
  },
  {
   "cell_type": "code",
   "execution_count": 22,
   "metadata": {},
   "outputs": [
    {
     "ename": "TypeError",
     "evalue": "unsupported operand type(s) for +: 'int' and 'str'",
     "output_type": "error",
     "traceback": [
      "\u001b[1;31m---------------------------------------------------------------------------\u001b[0m",
      "\u001b[1;31mTypeError\u001b[0m                                 Traceback (most recent call last)",
      "\u001b[1;32m<ipython-input-22-db649bd0c529>\u001b[0m in \u001b[0;36m<module>\u001b[1;34m\u001b[0m\n\u001b[0;32m      1\u001b[0m \u001b[0ma\u001b[0m \u001b[1;33m=\u001b[0m \u001b[1;36m5\u001b[0m\u001b[1;33m\u001b[0m\u001b[1;33m\u001b[0m\u001b[0m\n\u001b[1;32m----> 2\u001b[1;33m \u001b[0ma\u001b[0m \u001b[1;33m=\u001b[0m \u001b[0ma\u001b[0m\u001b[1;33m+\u001b[0m\u001b[1;34m'dinesh'\u001b[0m\u001b[1;33m\u001b[0m\u001b[1;33m\u001b[0m\u001b[0m\n\u001b[0m",
      "\u001b[1;31mTypeError\u001b[0m: unsupported operand type(s) for +: 'int' and 'str'"
     ]
    }
   ],
   "source": [
    "a = 5\n",
    "a = a+'dinesh'"
   ]
  },
  {
   "cell_type": "code",
   "execution_count": 21,
   "metadata": {},
   "outputs": [
    {
     "name": "stdout",
     "output_type": "stream",
     "text": [
      "15\n"
     ]
    }
   ],
   "source": [
    "a = 5\n",
    "a = a+10\n",
    "print (a)"
   ]
  },
  {
   "cell_type": "markdown",
   "metadata": {},
   "source": [
    "# check data type\n",
    "\n",
    "we need to check the data type before performing any operation with any variable .\n",
    "\n",
    "syntax: \n",
    "\n",
    " type(variable name)"
   ]
  },
  {
   "cell_type": "code",
   "execution_count": 23,
   "metadata": {},
   "outputs": [
    {
     "data": {
      "text/plain": [
       "int"
      ]
     },
     "execution_count": 23,
     "metadata": {},
     "output_type": "execute_result"
    }
   ],
   "source": [
    "type(a)"
   ]
  },
  {
   "cell_type": "code",
   "execution_count": null,
   "metadata": {},
   "outputs": [],
   "source": []
  }
 ],
 "metadata": {
  "kernelspec": {
   "display_name": "Python 3",
   "language": "python",
   "name": "python3"
  },
  "language_info": {
   "codemirror_mode": {
    "name": "ipython",
    "version": 3
   },
   "file_extension": ".py",
   "mimetype": "text/x-python",
   "name": "python",
   "nbconvert_exporter": "python",
   "pygments_lexer": "ipython3",
   "version": "3.7.9"
  }
 },
 "nbformat": 4,
 "nbformat_minor": 4
}
