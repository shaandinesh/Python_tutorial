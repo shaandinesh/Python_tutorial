{
 "cells": [
  {
   "cell_type": "markdown",
   "metadata": {},
   "source": [
    "<h1 id=\"What is String in Python?\"><span style=\"color: #0000ff;\">What is String in Python?</span></h1>\n",
    "\n",
    "A string is a sequence of characters.\n",
    "\n",
    "Like many other popular programming languages, strings in Python are arrays of bytes representing unicode characters.\n",
    "\n",
    "However, Python does not have a character data type, a single character is simply a string with a length of 1.\n",
    "\n",
    "Square brackets can be used to access elements of the string.\n",
    "\n"
   ]
  },
  {
   "cell_type": "markdown",
   "metadata": {},
   "source": [
    "<h1><span style=\"color: #0000ff;\">How to create a string in Python?</span></h1>\n",
    "\n",
    "Strings can be created by enclosing characters inside a single quote or double-quotes. Even triple quotes can be used in Python but generally used to represent multiline strings and docstrings.\n",
    "\n"
   ]
  },
  {
   "cell_type": "markdown",
   "metadata": {},
   "source": [
    "<h1 id=\"String-Literals\"><span style=\"color: #0000ff;\">String Literals</span></h1>\n",
    "<p>String literals in python are surrounded by either single quotation marks, or double quotation marks.</p>\n",
    "<p><strong><span class=\"w3-codespan\">'hello'</span></strong>&nbsp;is the same as&nbsp;<strong><span class=\"w3-codespan\">\"hello\"</span></strong>.</p>\n",
    "<p>&nbsp;</p>"
   ]
  },
  {
   "cell_type": "code",
   "execution_count": 1,
   "metadata": {},
   "outputs": [],
   "source": [
    "# defining strings in Python\n",
    "# all of the following are equivalent\n",
    "my_string = 'Hello'\n",
    "print(my_string)\n",
    "\n",
    "my_string = \"Hello\"\n",
    "print(my_string)"
   ]
  },
  {
   "cell_type": "markdown",
   "metadata": {},
   "source": [
    "<h2><span style=\"color: #0000ff;\">Multiline Strings</span></h2>\n",
    "<p>You can assign a multiline string to a variable by using three quotes:</p>"
   ]
  },
  {
   "cell_type": "code",
   "execution_count": 2,
   "metadata": {},
   "outputs": [],
   "source": [
    "a = \"\"\"Python is an easy to learn,\n",
    "powerful programming language. \n",
    "It has efficient high-level data structures \n",
    "and a simple but effective approach to object-oriented programming.\"\"\"\n",
    "print(a)\n",
    "\n",
    "my_string = '''Hello'''\n",
    "print(my_string)\n",
    "\n",
    "# triple quotes string can extend multiple lines\n",
    "my_string = \"\"\"Hello, welcome to\n",
    "           the world of Python\"\"\"\n",
    "print(my_string)"
   ]
  },
  {
   "cell_type": "markdown",
   "metadata": {},
   "source": [
    "<h2><span style=\"color: #0000ff;\">Slicing</span></h2>\n",
    "<p><em>We can access individual characters using indexing and a range of characters using slicing. Index starts from 0. Trying to access a character out of index range will raise an&nbsp;<code>IndexError</code>. The index must be an integer. We can't use floats or other types, this will result into&nbsp;<span style=\"color: #ff0000;\"><code>TypeError</code>.</span></em></p>\n",
    "<p><em>Python allows negative indexing for its sequences.</em></p>\n",
    "<p><em>The index of&nbsp;<code>-1</code>&nbsp;refers to the last item,&nbsp;<code>-2</code>&nbsp;to the second last item and so on. We can access a range of items in a string by using the slicing operator&nbsp;<code>:</code>(colon).</em></p>\n",
    "<p>&nbsp;</p>"
   ]
  },
  {
   "cell_type": "code",
   "execution_count": 3,
   "metadata": {},
   "outputs": [],
   "source": [
    "#Accessing string characters in Python\n",
    "str = 'programiz'\n",
    "print('str = ', str)\n",
    "\n",
    "#first character\n",
    "print('str[0] = ', str[0])\n",
    "\n",
    "#last character\n",
    "print('str[-1] = ', str[-1])\n",
    "\n",
    "#slicing 2nd to 5th character\n",
    "print('str[1:5] = ', str[1:5])\n",
    "\n",
    "#slicing 6th to 2nd last character\n",
    "print('str[5:-2] = ', str[5:-2])"
   ]
  },
  {
   "cell_type": "markdown",
   "metadata": {},
   "source": [
    "<p><span style=\"color: #ff0000;\">If we try to access an index out of the range or use numbers other than an integer, we will get errors.</span></p>"
   ]
  },
  {
   "cell_type": "code",
   "execution_count": 4,
   "metadata": {},
   "outputs": [],
   "source": [
    "my_string   = 'programiz'\n",
    "\n",
    " my_string[15]\n"
   ]
  },
  {
   "cell_type": "code",
   "execution_count": null,
   "metadata": {},
   "outputs": [],
   "source": [
    "my_string[1.5]"
   ]
  },
  {
   "cell_type": "markdown",
   "metadata": {},
   "source": [
    "<p><span style=\"color: #000080;\"><strong><em>Slicing can be best visualized by considering the index to be between the elements as shown below.</em></strong></span>\n",
    "<span style=\"color: #000080;\"><strong><em>If we want to access a range, we need the index that will slice the portion from the string.</em></strong></span></p>\n"
   ]
  },
  {
   "cell_type": "markdown",
   "metadata": {},
   "source": [
    "<img src=\"element-slicling.jpg\">"
   ]
  },
  {
   "cell_type": "code",
   "execution_count": null,
   "metadata": {},
   "outputs": [],
   "source": [
    "# Indexing\n",
    "\n",
    "b = \"Hello, World!\"\n",
    "print(b[2:5])"
   ]
  },
  {
   "cell_type": "code",
   "execution_count": null,
   "metadata": {},
   "outputs": [],
   "source": [
    "# Negative Indexing\n",
    "\n",
    "b = \"Hello, World!\"\n",
    "print(b[-5:-2])"
   ]
  },
  {
   "cell_type": "markdown",
   "metadata": {},
   "source": [
    "<h2 id=\"change\"><span style=\"color: #0000ff;\">How to change or delete a string</span></h2>\n",
    "<p>&nbsp;<strong><em><span style=\"color: #000080;\">Strings are immutable. This means that elements of a string cannot be changed once they have been assigned. We can simply reassign different strings to the same name.</span></em></strong></p>"
   ]
  },
  {
   "cell_type": "code",
   "execution_count": null,
   "metadata": {},
   "outputs": [],
   "source": [
    "my_string = 'programiz'\n",
    "my_string[5] = 'a'"
   ]
  },
  {
   "cell_type": "markdown",
   "metadata": {},
   "source": [
    "<p><span style=\"color: #0000ff;\"><strong><em>We cannot delete or remove characters from a string. But deleting the string entirely is possible using the&nbsp;<code>del</code>&nbsp;keyword.</em></strong></span></p>"
   ]
  },
  {
   "cell_type": "code",
   "execution_count": null,
   "metadata": {},
   "outputs": [],
   "source": [
    "del my_string"
   ]
  },
  {
   "cell_type": "markdown",
   "metadata": {},
   "source": [
    "<h1><span style=\"color: #0000ff;\">Convert integer to string in Python</span></h1>\n",
    "<p>In Python an integer can be converted into a string using the built-in<strong>&nbsp;<code>str()</code></strong>&nbsp;function. The str() function takes in any&nbsp;python data type</a>&nbsp;and converts it into a string. But use of the&nbsp;<strong>str()</a></strong>&nbsp;is not the only way to do so. This type of conversion can also be done using the<strong><code>&nbsp;\"%s\"</code></strong></a>&nbsp;keyword, the&nbsp;<strong><code>.format</code></strong></a><strong>&nbsp;</strong>function or using<a &nbsp;f-string</strong>&nbsp;</a>function.</p>\n",
    "<p>Below is the list of possible ways to convert an integer to string in python:</p>\n",
    "<p>&nbsp;</p>"
   ]
  },
  {
   "cell_type": "code",
   "execution_count": null,
   "metadata": {},
   "outputs": [],
   "source": [
    "global str\n",
    "num = 10"
   ]
  },
  {
   "cell_type": "code",
   "execution_count": null,
   "metadata": {},
   "outputs": [],
   "source": [
    "print (type(num))  \n",
    "str(num)"
   ]
  },
  {
   "cell_type": "markdown",
   "metadata": {},
   "source": [
    "<h3 id=\"concat\"><span style=\"color: #0000ff;\">Concatenation of Two or More Strings</span></h3>\n",
    "<p><span style=\"color: #0000ff;\">Joining of two or more strings into a single one is called concatenation.</span></p>\n",
    "<p><span style=\"color: #0000ff;\">The&nbsp;<strong>+</strong>&nbsp;operator does this in Python. Simply writing two string literals together also concatenates them.</span></p>\n",
    "<p><span style=\"color: #0000ff;\">The&nbsp;<strong>*</strong>&nbsp;operator can be used to repeat the string for a given number of times.</span></p>"
   ]
  },
  {
   "cell_type": "code",
   "execution_count": 5,
   "metadata": {},
   "outputs": [
    {
     "name": "stdout",
     "output_type": "stream",
     "text": [
      "str1 + str2 =  HelloWorld!\n",
      "str1 * 3 = HelloHelloHello\n"
     ]
    }
   ],
   "source": [
    "# Python String Operations\n",
    "str1 = 'Hello'\n",
    "str2 ='World!'\n",
    "\n",
    "# using +\n",
    "print('str1 + str2 = ', str1 + str2)\n",
    "\n",
    "# using *\n",
    "print('str1 * 3 =', str1 * 3)"
   ]
  },
  {
   "cell_type": "markdown",
   "metadata": {},
   "source": [
    "Writing two string literals together also concatenates them like + operator.\n",
    "\n",
    "If we want to concatenate strings in different lines, we can use parentheses."
   ]
  },
  {
   "cell_type": "code",
   "execution_count": 10,
   "metadata": {},
   "outputs": [
    {
     "name": "stdout",
     "output_type": "stream",
     "text": [
      "Hello World\n"
     ]
    }
   ],
   "source": [
    "'Hello ''World!'\n",
    "'Hello World!'\n",
    "\n",
    "s = ('Hello '\n",
    "      'World')\n",
    "print (s)\n"
   ]
  },
  {
   "cell_type": "markdown",
   "metadata": {},
   "source": [
    "<h2><span style=\"color: #0000ff;\">String Format</span></h2>\n",
    "<p>&nbsp;</p>\n",
    "<p><em><span style=\"color: #0000ff;\">If we want to print a text like&nbsp;<samp>He said, \"What's there?\"</samp>, we can neither use single quotes nor double quotes. This will result in a&nbsp;<code>SyntaxError</code>&nbsp;as the text itself contains both single and double quotes.</span></em></p>\n"
   ]
  },
  {
   "cell_type": "code",
   "execution_count": 11,
   "metadata": {},
   "outputs": [
    {
     "ename": "SyntaxError",
     "evalue": "invalid syntax (<ipython-input-11-5b2db8c64782>, line 1)",
     "output_type": "error",
     "traceback": [
      "\u001b[1;36m  File \u001b[1;32m\"<ipython-input-11-5b2db8c64782>\"\u001b[1;36m, line \u001b[1;32m1\u001b[0m\n\u001b[1;33m    print(\"He said, \"What's there?\"\")\u001b[0m\n\u001b[1;37m                        ^\u001b[0m\n\u001b[1;31mSyntaxError\u001b[0m\u001b[1;31m:\u001b[0m invalid syntax\n"
     ]
    }
   ],
   "source": [
    "print(\"He said, \"What's there?\"\")"
   ]
  },
  {
   "cell_type": "markdown",
   "metadata": {},
   "source": [
    "<h2><span style=\"color: #0000ff;\">String Format</span></h2>\n",
    "\n",
    "<p><em><span style=\"color: #0000ff;\">One way to get around this problem is to use triple quotes. Alternatively, we can use escape sequences.</span></em></p>\n",
    "<p><em><span style=\"color: #0000ff;\">An escape sequence starts with a backslash and is interpreted differently. If we use a single quote to represent a string, all the single quotes inside the string must be escaped. Similar is the case with double quotes. Here is how it can be done to represent the above text.</span></em></p>"
   ]
  },
  {
   "cell_type": "code",
   "execution_count": 15,
   "metadata": {},
   "outputs": [
    {
     "name": "stdout",
     "output_type": "stream",
     "text": [
      "He said, \"What's there?\"\n",
      "He said, \"What's there?\"\n",
      "He said, \"What's there?\"\n"
     ]
    }
   ],
   "source": [
    "# using triple quotes\n",
    "print('''He said, \"What's there?\"''')\n",
    "\n",
    "# escaping single quotes\n",
    "print('He said, \"What\\'s there?\"')\n",
    "\n",
    "# escaping double quotes\n",
    "print(\"He said, \\\"What's there?\\\"\")"
   ]
  },
  {
   "cell_type": "markdown",
   "metadata": {},
   "source": [
    "# Here is a list of all the escape sequences supported by Python.\n"
   ]
  },
  {
   "cell_type": "markdown",
   "metadata": {},
   "source": [
    "<table class=\"w3-table-all notranslate\" style=\"float: left;\">\n",
    "<tbody>\n",
    "<tr>\n",
    "<th width=\"25%\">Code</th>\n",
    "<th>Result</th>\n",
    "<th>&nbsp;</th>\n",
    "</tr>\n",
    "<tr>\n",
    "<td>\\'</td>\n",
    "<td>Single Quote</td>\n",
    "<td>&nbsp;</td>\n",
    "</tr>\n",
    "<tr>\n",
    "<td>\\\\</td>\n",
    "<td>Backslash</td>\n",
    "<td>&nbsp;</td>\n",
    "</tr>\n",
    "<tr>\n",
    "<td>\\n</td>\n",
    "<td>New Line</td>\n",
    "<td>&nbsp;</td>\n",
    "</tr>\n",
    "<tr>\n",
    "<td>\\r</td>\n",
    "<td>Carriage Return</td>\n",
    "<td>&nbsp;</td>\n",
    "</tr>\n",
    "<tr>\n",
    "<td>\\t</td>\n",
    "<td>Tab</td>\n",
    "<td>&nbsp;</td>\n",
    "</tr>\n",
    "<tr>\n",
    "<td>\\b</td>\n",
    "<td>Backspace</td>\n",
    "<td>&nbsp;</td>\n",
    "</tr>\n",
    "<tr>\n",
    "<td>\\f</td>\n",
    "<td>Form Feed</td>\n",
    "<td>&nbsp;</td>\n",
    "</tr>\n",
    "<tr>\n",
    "<td>\\ooo</td>\n",
    "<td>Octal value</td>\n",
    "<td>&nbsp;</td>\n",
    "</tr>\n",
    "<tr>\n",
    "<td>\\xhh</td>\n",
    "<td>Hex value</td>\n",
    "</tr>\n",
    "</tbody>\n",
    "</table>\n",
    "<p style=\"text-align: left;\">&nbsp;</p>"
   ]
  },
  {
   "cell_type": "code",
   "execution_count": 17,
   "metadata": {},
   "outputs": [
    {
     "name": "stdout",
     "output_type": "stream",
     "text": [
      "C:\\Python32\\Lib\n"
     ]
    }
   ],
   "source": [
    " print(\"C:\\\\Python32\\\\Lib\")"
   ]
  },
  {
   "cell_type": "code",
   "execution_count": 18,
   "metadata": {},
   "outputs": [
    {
     "name": "stdout",
     "output_type": "stream",
     "text": [
      "This is printed\n",
      "in two lines\n"
     ]
    }
   ],
   "source": [
    "print(\"This is printed\\nin two lines\")"
   ]
  },
  {
   "cell_type": "code",
   "execution_count": 19,
   "metadata": {},
   "outputs": [
    {
     "name": "stdout",
     "output_type": "stream",
     "text": [
      "This is HEX representation\n"
     ]
    }
   ],
   "source": [
    "print(\"This is \\x48\\x45\\x58 representation\")"
   ]
  },
  {
   "cell_type": "markdown",
   "metadata": {},
   "source": [
    "<h3 id=\"raw\"><em><span style=\"color: #0000ff;\">Raw String to ignore escape sequence</span></em></h3>\n",
    "<p><em><span style=\"color: #0000ff;\">Sometimes we may wish to ignore the escape sequences inside a string. To do this we can place&nbsp;<code>r</code>&nbsp;or&nbsp;<code>R</code>&nbsp;in front of the string. This will imply that it is a raw string and any escape sequence inside it will be ignored.</span></em></p>\n"
   ]
  },
  {
   "cell_type": "code",
   "execution_count": 20,
   "metadata": {},
   "outputs": [
    {
     "name": "stdout",
     "output_type": "stream",
     "text": [
      "This is a \n",
      "good example\n"
     ]
    }
   ],
   "source": [
    "print(\"This is \\x61 \\ngood example\")"
   ]
  },
  {
   "cell_type": "code",
   "execution_count": 21,
   "metadata": {},
   "outputs": [
    {
     "name": "stdout",
     "output_type": "stream",
     "text": [
      "This is \\x61 \\ngood example\n"
     ]
    }
   ],
   "source": [
    "print(r\"This is \\x61 \\ngood example\")"
   ]
  },
  {
   "cell_type": "markdown",
   "metadata": {},
   "source": [
    "<h1 id=\"format\"><span style=\"color: #0000ff;\">The format() Method for Formatting Strings</span></h1>\n",
    "<p><span style=\"color: #0000ff;\">The&nbsp;<code>format()</code>&nbsp;method that is available with the string object is very versatile and powerful in formatting strings. Format strings contain curly braces&nbsp;<code>{}</code>&nbsp;as placeholders or replacement fields which get replaced.</span></p>\n",
    "<p><span style=\"color: #0000ff;\">We can use positional arguments or keyword arguments to specify the order.</span></p>"
   ]
  },
  {
   "cell_type": "code",
   "execution_count": 22,
   "metadata": {},
   "outputs": [
    {
     "name": "stdout",
     "output_type": "stream",
     "text": [
      "\n",
      "--- Default Order ---\n",
      "John, Bill and Sean\n",
      "\n",
      "--- Positional Order ---\n",
      "Bill, John and Sean\n",
      "\n",
      "--- Keyword Order ---\n",
      "Sean, Bill and John\n"
     ]
    }
   ],
   "source": [
    "# Python string format() method\n",
    "\n",
    "# default(implicit) order\n",
    "default_order = \"{}, {} and {}\".format('John','Bill','Sean')\n",
    "print('\\n--- Default Order ---')\n",
    "print(default_order)\n",
    "\n",
    "# order using positional argument\n",
    "positional_order = \"{1}, {0} and {2}\".format('John','Bill','Sean')\n",
    "print('\\n--- Positional Order ---')\n",
    "print(positional_order)\n",
    "\n",
    "# order using keyword argument\n",
    "keyword_order = \"{s}, {b} and {j}\".format(j='John',b='Bill',s='Sean')\n",
    "print('\\n--- Keyword Order ---')\n",
    "print(keyword_order)"
   ]
  },
  {
   "cell_type": "markdown",
   "metadata": {},
   "source": [
    "<p><span style=\"color: #0000ff;\">The&nbsp;<code>format()</code>&nbsp;method can have optional format specifications. They are separated from the field name using colon. For example, we can left-justify&nbsp;<code>&lt;</code>, right-justify&nbsp;<code>&gt;</code>&nbsp;or center&nbsp;<code>^</code>&nbsp;a string in the given space.</span></p>\n",
    "<p><span style=\"color: #0000ff;\">We can also format integers as binary, hexadecimal, etc. and floats can be rounded or displayed in the exponent format. There are tons of formatting you can use. Visit here for all the&nbsp;string formatting available with the&nbsp;<code></code>&nbsp;method.</span></p>"
   ]
  },
  {
   "cell_type": "code",
   "execution_count": 26,
   "metadata": {},
   "outputs": [
    {
     "data": {
      "text/plain": [
       "'Binary representation of 12 is 1100'"
      ]
     },
     "execution_count": 26,
     "metadata": {},
     "output_type": "execute_result"
    }
   ],
   "source": [
    "\"Binary representation of {0} is {0:b}\".format(12)\n",
    "'Binary representation of 12 is 1100'"
   ]
  },
  {
   "cell_type": "code",
   "execution_count": 30,
   "metadata": {},
   "outputs": [
    {
     "data": {
      "text/plain": [
       "'Exponent representation: 1.566345e+03'"
      ]
     },
     "execution_count": 30,
     "metadata": {},
     "output_type": "execute_result"
    }
   ],
   "source": [
    "# formatting floats\n",
    "\"Exponent representation: {0:e}\".format(1566.345)\n",
    "'Exponent representation: 1.566345e+03'"
   ]
  },
  {
   "cell_type": "code",
   "execution_count": 28,
   "metadata": {},
   "outputs": [
    {
     "data": {
      "text/plain": [
       "'One third is: 0.333'"
      ]
     },
     "execution_count": 28,
     "metadata": {},
     "output_type": "execute_result"
    }
   ],
   "source": [
    "# round off\n",
    "\"One third is: {0:.3f}\".format(1/3)\n",
    "'One third is: 0.333'"
   ]
  },
  {
   "cell_type": "code",
   "execution_count": 29,
   "metadata": {},
   "outputs": [
    {
     "data": {
      "text/plain": [
       "'|butter    |  bread   |       ham|'"
      ]
     },
     "execution_count": 29,
     "metadata": {},
     "output_type": "execute_result"
    }
   ],
   "source": [
    "\"|{:<10}|{:^10}|{:>10}|\".format('butter','bread','ham')\n",
    "'|butter    |  bread   |       ham|'"
   ]
  },
  {
   "cell_type": "markdown",
   "metadata": {},
   "source": [
    "<h2><span style=\"color: #0000ff;\">String Methods</span></h2>\n",
    "<p>Python has a set of built-in methods that you can use on strings.</p>\n",
    "<div>\n",
    "<table>\n",
    "<tbody>\n",
    "<tr>\n",
    "<th><span style=\"color: #0000ff;\">Method</span></th>\n",
    "<th><span style=\"color: #0000ff;\">Description</span></th>\n",
    "</tr>\n",
    "<tr>\n",
    "<td>capitalize()</td>\n",
    "<td>Converts the first character to upper case</td>\n",
    "</tr>\n",
    "<tr>\n",
    "<td>casefold()</td>\n",
    "<td>Converts string into lower case</td>\n",
    "</tr>\n",
    "<tr>\n",
    "<td>center()</td>\n",
    "<td>Returns a centered string</td>\n",
    "</tr>\n",
    "<tr>\n",
    "<td>count()</td>\n",
    "<td>Returns the number of times a specified value occurs in a string</td>\n",
    "</tr>\n",
    "<tr>\n",
    "<td>encode()</td>\n",
    "<td>Returns an encoded version of the string</td>\n",
    "</tr>\n",
    "<tr>\n",
    "<td>endswith()</td>\n",
    "<td>Returns true if the string ends with the specified value</td>\n",
    "</tr>\n",
    "<tr>\n",
    "<td>expandtabs()</td>\n",
    "<td>Sets the tab size of the string</td>\n",
    "</tr>\n",
    "<tr>\n",
    "<td>find()</td>\n",
    "<td>Searches the string for a specified value and returns the position of where it was found</td>\n",
    "</tr>\n",
    "<tr>\n",
    "<td>format()</td>\n",
    "<td>Formats specified values in a string</td>\n",
    "</tr>\n",
    "<tr>\n",
    "<td>format_map()</td>\n",
    "<td>Formats specified values in a string</td>\n",
    "</tr>\n",
    "<tr>\n",
    "<td>index()</td>\n",
    "<td>Searches the string for a specified value and returns the position of where it was found</td>\n",
    "</tr>\n",
    "<tr>\n",
    "<td>isalnum()</td>\n",
    "<td>Returns True if all characters in the string are alphanumeric</td>\n",
    "</tr>\n",
    "<tr>\n",
    "<td>isalpha()</td>\n",
    "<td>Returns True if all characters in the string are in the alphabet</td>\n",
    "</tr>\n",
    "<tr>\n",
    "<td>isdecimal()</td>\n",
    "<td>Returns True if all characters in the string are decimals</td>\n",
    "</tr>\n",
    "<tr>\n",
    "<td>isdigit()</td>\n",
    "<td>Returns True if all characters in the string are digits</td>\n",
    "</tr>\n",
    "<tr>\n",
    "<td>isidentifier()</td>\n",
    "<td>Returns True if the string is an identifier</td>\n",
    "</tr>\n",
    "<tr>\n",
    "<td>islower()</td>\n",
    "<td>Returns True if all characters in the string are lower case</td>\n",
    "</tr>\n",
    "<tr>\n",
    "<td>isnumeric()</td>\n",
    "<td>Returns True if all characters in the string are numeric</td>\n",
    "</tr>\n",
    "<tr>\n",
    "<td>isprintable()</td>\n",
    "<td>Returns True if all characters in the string are printable</td>\n",
    "</tr>\n",
    "<tr>\n",
    "<td>isspace()</td>\n",
    "<td>Returns True if all characters in the string are whitespaces</td>\n",
    "</tr>\n",
    "<tr>\n",
    "<td>istitle()</td>\n",
    "<td>Returns True if the string follows the rules of a title</td>\n",
    "</tr>\n",
    "<tr>\n",
    "<td>isupper()</td>\n",
    "<td>Returns True if all characters in the string are upper case</td>\n",
    "</tr>\n",
    "<tr>\n",
    "<td>join()</td>\n",
    "<td>Joins the elements of an iterable to the end of the string</td>\n",
    "</tr>\n",
    "<tr>\n",
    "<td>ljust()</td>\n",
    "<td>Returns a left justified version of the string</td>\n",
    "</tr>\n",
    "<tr>\n",
    "<td>lower()</td>\n",
    "<td>Converts a string into lower case</td>\n",
    "</tr>\n",
    "<tr>\n",
    "<td>lstrip()</td>\n",
    "<td>Returns a left trim version of the string</td>\n",
    "</tr>\n",
    "<tr>\n",
    "<td>maketrans()</td>\n",
    "<td>Returns a translation table to be used in translations</td>\n",
    "</tr>\n",
    "<tr>\n",
    "<td>partition()</td>\n",
    "<td>Returns a tuple where the string is parted into three parts</td>\n",
    "</tr>\n",
    "<tr>\n",
    "<td>replace()</td>\n",
    "<td>Returns a string where a specified value is replaced with a specified value</td>\n",
    "</tr>\n",
    "<tr>\n",
    "<td>rfind()</td>\n",
    "<td>Searches the string for a specified value and returns the last position of where it was found</td>\n",
    "</tr>\n",
    "<tr>\n",
    "<td>rindex()</td>\n",
    "<td>Searches the string for a specified value and returns the last position of where it was found</td>\n",
    "</tr>\n",
    "<tr>\n",
    "<td>rjust()</td>\n",
    "<td>Returns a right justified version of the string</td>\n",
    "</tr>\n",
    "<tr>\n",
    "<td>rpartition()</td>\n",
    "<td>Returns a tuple where the string is parted into three parts</td>\n",
    "</tr>\n",
    "<tr>\n",
    "<td>rsplit()</td>\n",
    "<td>Splits the string at the specified separator, and returns a list</td>\n",
    "</tr>\n",
    "<tr>\n",
    "<td>rstrip()</td>\n",
    "<td>Returns a right trim version of the string</td>\n",
    "</tr>\n",
    "<tr>\n",
    "<td>split()</td>\n",
    "<td>Splits the string at the specified separator, and returns a list</td>\n",
    "</tr>\n",
    "<tr>\n",
    "<td>splitlines()</td>\n",
    "<td>Splits the string at line breaks and returns a list</td>\n",
    "</tr>\n",
    "<tr>\n",
    "<td>startswith()</td>\n",
    "<td>Returns true if the string starts with the specified value</td>\n",
    "</tr>\n",
    "<tr>\n",
    "<td>strip()</td>\n",
    "<td>Returns a trimmed version of the string</td>\n",
    "</tr>\n",
    "<tr>\n",
    "<td>swapcase()</td>\n",
    "<td>Swaps cases, lower case becomes upper case and vice versa</td>\n",
    "</tr>\n",
    "<tr>\n",
    "<td>title()</td>\n",
    "<td>Converts the first character of each word to upper case</td>\n",
    "</tr>\n",
    "<tr>\n",
    "<td>translate()</td>\n",
    "<td>Returns a translated string</td>\n",
    "</tr>\n",
    "<tr>\n",
    "<td>upper()</td>\n",
    "<td>Converts a string into upper case</td>\n",
    "</tr>\n",
    "<tr>\n",
    "<td>zfill()</td>\n",
    "<td>Fills the string with a specified number of 0 values at the beginning</td>\n",
    "</tr>\n",
    "</tbody>\n",
    "</table>\n",
    "</div>"
   ]
  },
  {
   "cell_type": "code",
   "execution_count": null,
   "metadata": {},
   "outputs": [],
   "source": []
  }
 ],
 "metadata": {
  "kernelspec": {
   "display_name": "Python 3",
   "language": "python",
   "name": "python3"
  },
  "language_info": {
   "codemirror_mode": {
    "name": "ipython",
    "version": 3
   },
   "file_extension": ".py",
   "mimetype": "text/x-python",
   "name": "python",
   "nbconvert_exporter": "python",
   "pygments_lexer": "ipython3",
   "version": "3.7.9"
  }
 },
 "nbformat": 4,
 "nbformat_minor": 4
}
